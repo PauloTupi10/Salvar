{
 "cells": [
  {
   "cell_type": "code",
   "execution_count": 1,
   "metadata": {},
   "outputs": [],
   "source": [
    "from bcb import Expectativas\n",
    "import pandas as pd\n",
    "import numpy as np\n",
    "from scipy.interpolate import interp1d\n",
    "import os\n",
    "from datetime import datetime, timedelta\n",
    "from statsmodels.tsa.arima.model import ARIMA\n",
    "import warnings\n",
    "# Suprimir temporariamente os avisos\n",
    "warnings.filterwarnings(\"ignore\")"
   ]
  },
  {
   "cell_type": "code",
   "execution_count": 2,
   "metadata": {},
   "outputs": [],
   "source": [
    "def Func_Expec_Selic():\n",
    "    # Importando os dados do BCB\n",
    "    # Instancia a classe\n",
    "    em = Expectativas()\n",
    "\n",
    "    SerieCaptada = \"ExpectativasMercadoSelic\"\n",
    "    ep = em.get_endpoint(SerieCaptada)\n",
    "\n",
    "\n",
    "    # Dados da Selic\n",
    "    selic_expec = ( ep.query()\n",
    "    .filter(ep.Indicador == 'Selic')\n",
    "    .filter(ep.baseCalculo=='0')\n",
    "    .orderby('Data asc')\n",
    "    .select(ep.Indicador, ep.Data, ep.Reuniao,ep.Media, ep.Mediana, ep.DesvioPadrao, ep.baseCalculo)\n",
    "    .collect()\n",
    "    )\n",
    "\n",
    "    def calcular_data_reuniao(reuniao):\n",
    "        # Extrai o número da reunião e o ano\n",
    "        numero_reuniao, ano = map(int, reuniao[1:].split('/'))\n",
    "        \n",
    "        # Calcula a data da primeira reunião do ano\n",
    "        primeira_reuniao_data = datetime(ano, 2, 1)  # Supondo que a primeira reunião seja em 1 de fevereiro\n",
    "        \n",
    "        # Calcula a data da reunião com base no número da reunião e a diferença de dias\n",
    "        dias_reuniao = (numero_reuniao - 1) * 45\n",
    "        data_reuniao = primeira_reuniao_data + timedelta(days=dias_reuniao)\n",
    "        \n",
    "        return data_reuniao\n",
    "\n",
    "    # Exemplo de uso\n",
    "    reuniao = \"R2/2022\"\n",
    "    data = calcular_data_reuniao(reuniao)\n",
    "    # print(data)\n",
    "\n",
    "    df_filtrado2 = selic_expec.copy()\n",
    "    df_filtrado2[\"Reuniao\"] = df_filtrado2[\"Reuniao\"].apply(calcular_data_reuniao)\n",
    "    df_filtrado2['Diferenca'] = (df_filtrado2['Reuniao'] - df_filtrado2['Data']).dt.days\n",
    "    df_filtrado2 = df_filtrado2[df_filtrado2['Data']>datetime(2006,1,1)]\n",
    "\n",
    "    grupos = df_filtrado2.groupby(\"Data\")\n",
    "    dic_selic = {}\n",
    "    Selic_12Meses = pd.DataFrame(columns=[\"Valor\"])\n",
    "    for data, grupo in grupos:\n",
    "        \n",
    "        #print(data, grupo)\n",
    "\n",
    "        df_temp = grupo.loc[:,[\"Data\",\"Mediana\",\"Diferenca\"]]\n",
    "        \n",
    "        # Crie uma função de interpolação usando interp1d\n",
    "        interpolacao = interp1d(df_temp['Diferenca'], df_temp['Mediana'], fill_value=\"extrapolate\")   \n",
    "        valor_interpolacao = np.round(interpolacao(365),2)\n",
    "        df_temp.loc[df_temp.index[-1]+1,:] = [data, valor_interpolacao, 365]\n",
    "        dic_selic[data] = df_temp\n",
    "        Selic_12Meses.loc[data,\"Valor\"] = valor_interpolacao\n",
    "\n",
    "\n",
    "    ## Colunas do ARIMA\n",
    "    for i in range(1,13):\n",
    "        Selic_12Meses[f\"{i}_mes\"] = 0\n",
    "\n",
    "    return Selic_12Meses"
   ]
  },
  {
   "cell_type": "code",
   "execution_count": 3,
   "metadata": {},
   "outputs": [],
   "source": [
    "def SELIC_ARIMA(df_Expectativa_Selic_mensal, n_steps = 12):\n",
    "    (p, d, q) = (1,1,1)\n",
    "    model = ARIMA(df_Expectativa_Selic_mensal, order=(p, d, q))\n",
    "    model_fit = model.fit()\n",
    "    # Faça previsões para os próximos n_steps meses\n",
    "    forecast = model_fit.forecast(steps=n_steps)\n",
    "    prev_n_steps_meses = forecast[-1]\n",
    "    return forecast"
   ]
  },
  {
   "cell_type": "code",
   "execution_count": 4,
   "metadata": {},
   "outputs": [],
   "source": [
    "Selic_12Meses = Func_Expec_Selic()"
   ]
  },
  {
   "cell_type": "code",
   "execution_count": 5,
   "metadata": {},
   "outputs": [],
   "source": [
    "lista_index = Selic_12Meses.index\n",
    "for data in lista_index[100:]:\n",
    "    df_mensal = Selic_12Meses.loc[:data,\"Valor\"].resample('M').mean()\n",
    "    serie = list(df_mensal.values)\n",
    "    forecast = SELIC_ARIMA(serie)\n",
    "    Selic_12Meses.loc[data,\"1_mes\":\"12_mes\"] = forecast"
   ]
  },
  {
   "cell_type": "code",
   "execution_count": null,
   "metadata": {},
   "outputs": [],
   "source": [
    "nome_arquivo = f\"Expectativa_Selic_Diaria.parquet\"\n",
    "arquivo_Selic = os.path.join(\"..\",\"..\",\"..\",\"dataset\", \"BR\",\"Selic\", nome_arquivo)\n",
    "# Substitua os valores infinitos por NaN (ou qualquer outro valor desejado)\n",
    "Selic_12Meses.replace([np.inf, -np.inf], np.nan, inplace=True)\n",
    "Selic_12Meses.to_parquet(arquivo_Selic, engine='fastparquet')"
   ]
  }
 ],
 "metadata": {
  "kernelspec": {
   "display_name": "Python 3",
   "language": "python",
   "name": "python3"
  },
  "language_info": {
   "codemirror_mode": {
    "name": "ipython",
    "version": 3
   },
   "file_extension": ".py",
   "mimetype": "text/x-python",
   "name": "python",
   "nbconvert_exporter": "python",
   "pygments_lexer": "ipython3",
   "version": "3.11.4"
  },
  "orig_nbformat": 4
 },
 "nbformat": 4,
 "nbformat_minor": 2
}
